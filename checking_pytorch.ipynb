{
 "cells": [
  {
   "cell_type": "markdown",
   "source": [
    "# Pytorch checking"
   ],
   "metadata": {
    "collapsed": false
   }
  },
  {
   "cell_type": "code",
   "execution_count": 1,
   "outputs": [],
   "source": [
    "import torch\n",
    "from torch.backends import cudnn"
   ],
   "metadata": {
    "collapsed": false,
    "ExecuteTime": {
     "end_time": "2023-05-27T13:33:30.083760043Z",
     "start_time": "2023-05-27T13:33:29.395945096Z"
    }
   }
  },
  {
   "cell_type": "markdown",
   "source": [
    "## Version checking"
   ],
   "metadata": {
    "collapsed": false
   }
  },
  {
   "cell_type": "code",
   "execution_count": 2,
   "outputs": [
    {
     "name": "stdout",
     "output_type": "stream",
     "text": [
      "Version of PyTorch: 2.0.1\n",
      "Version of CUDA: 11.7\n",
      "Version of CUDNN: 8500\n"
     ]
    }
   ],
   "source": [
    "print(f\"Version of PyTorch: {torch.version.__version__}\")\n",
    "print(f\"Version of CUDA: { torch.version.cuda}\")\n",
    "print(f\"Version of CUDNN: {cudnn.version()}\")"
   ],
   "metadata": {
    "collapsed": false,
    "ExecuteTime": {
     "end_time": "2023-05-27T13:35:12.246534598Z",
     "start_time": "2023-05-27T13:35:12.189047700Z"
    }
   }
  },
  {
   "cell_type": "markdown",
   "source": [
    "## CUDA&CUDNN checking"
   ],
   "metadata": {
    "collapsed": false
   }
  },
  {
   "cell_type": "code",
   "execution_count": 3,
   "outputs": [
    {
     "name": "stdout",
     "output_type": "stream",
     "text": [
      "CUDA is currently available.\n",
      "CUDNN is currently available.\n",
      "CUDA is currently initialized.\n"
     ]
    }
   ],
   "source": [
    "print(f\"CUDA is currently available.\" if torch.cuda.is_available() else f\"CUDA is currently unavailable.\")\n",
    "print(f\"CUDNN is currently available.\" if cudnn.is_available() else f\"CUDNN is currently unavailable.\")\n",
    "torch.cuda.init()\n",
    "print(f\"CUDA is currently initialized.\" if torch.cuda.is_initialized() else f\"CUDA is currently uninitialized.\")"
   ],
   "metadata": {
    "collapsed": false,
    "ExecuteTime": {
     "end_time": "2023-05-27T13:40:57.546580219Z",
     "start_time": "2023-05-27T13:40:57.501493142Z"
    }
   }
  },
  {
   "cell_type": "markdown",
   "source": [
    "## GPU checking"
   ],
   "metadata": {
    "collapsed": false
   }
  },
  {
   "cell_type": "code",
   "execution_count": 4,
   "outputs": [
    {
     "name": "stdout",
     "output_type": "stream",
     "text": [
      "GPU number 0 is NVIDIA GeForce RTX 4080.\n"
     ]
    }
   ],
   "source": [
    "device_count = torch.cuda.device_count()\n",
    "for i in range(device_count):\n",
    "    device_name = torch.cuda.get_device_name(device=torch.cuda.device(i))\n",
    "    print(f\"GPU number {i} is {device_name}.\")"
   ],
   "metadata": {
    "collapsed": false,
    "ExecuteTime": {
     "end_time": "2023-05-27T13:43:55.915702122Z",
     "start_time": "2023-05-27T13:43:55.859168525Z"
    }
   }
  },
  {
   "cell_type": "code",
   "execution_count": 7,
   "outputs": [
    {
     "name": "stdout",
     "output_type": "stream",
     "text": [
      "Name of GPU: NVIDIA GeForce RTX 4080\n",
      "Computing power of the GPU: 8.9\n",
      "Total memory of GPU: 15 GB (16076 MB)\n",
      "Processor count of GPU: 76\n"
     ]
    }
   ],
   "source": [
    "device = torch.cuda.device(0)\n",
    "device_propreties = torch.cuda.get_device_properties(device)\n",
    "print(f\"Name of GPU: {device_propreties.name}\")\n",
    "print(f\"Computing power of the GPU: {device_propreties.major}.{device_propreties.minor}\")\n",
    "print(f\"Total memory of GPU: {int(device_propreties.total_memory/(1024*1024*1024))} GB ({int(device_propreties.total_memory/(1024*1024))} MB)\")\n",
    "print(f\"Processor count of GPU: {device_propreties.multi_processor_count}\")"
   ],
   "metadata": {
    "collapsed": false,
    "ExecuteTime": {
     "end_time": "2023-05-27T13:49:26.980838169Z",
     "start_time": "2023-05-27T13:49:26.978379786Z"
    }
   }
  },
  {
   "cell_type": "code",
   "execution_count": 8,
   "outputs": [],
   "source": [
    "torch.cuda.empty_cache()"
   ],
   "metadata": {
    "collapsed": false,
    "ExecuteTime": {
     "end_time": "2023-05-27T13:50:41.266123729Z",
     "start_time": "2023-05-27T13:50:41.223982363Z"
    }
   }
  },
  {
   "cell_type": "code",
   "execution_count": null,
   "outputs": [],
   "source": [],
   "metadata": {
    "collapsed": false
   }
  }
 ],
 "metadata": {
  "kernelspec": {
   "display_name": "Python 3",
   "language": "python",
   "name": "python3"
  },
  "language_info": {
   "codemirror_mode": {
    "name": "ipython",
    "version": 2
   },
   "file_extension": ".py",
   "mimetype": "text/x-python",
   "name": "python",
   "nbconvert_exporter": "python",
   "pygments_lexer": "ipython2",
   "version": "2.7.6"
  }
 },
 "nbformat": 4,
 "nbformat_minor": 0
}
